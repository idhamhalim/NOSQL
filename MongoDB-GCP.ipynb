{
 "cells": [
  {
   "cell_type": "markdown",
   "metadata": {},
   "source": [
    "# To create MongoDB server on GCP\n",
    "https://cloud.google.com/launcher/\n",
    "\n",
    "Then ssh to the machine\n",
    "1. change the conf\n",
    "1. import the data\n",
    "    \n",
    "    wget https://raw.githubusercontent.com/mongodb/docs-assets/primer-dataset/primer-dataset.json\n",
    "    \n",
    "    mongoimport --db test --collection restaurants --drop --file primer-dataset.json\n",
    "\n",
    "1. Launch `mongo`\n",
    "1. Create a user with:\n",
    "\n",
    "    use test\n",
    "    \n",
    "    db.createUser({user: 'datastar', pwd: 'datastar', roles: [{ role: 'readWrite', db:'test'}]})\n",
    "\n",
    "1. change the conf to: \n"
   ]
  },
  {
   "cell_type": "raw",
   "metadata": {},
   "source": [
    "# network interfaces\n",
    "net:\n",
    "  port: 27017\n",
    "  bindIp: 0.0.0.0\n",
    "security:\n",
    "  authorization: enabled\n",
    "  #keyFile: replace_me"
   ]
  },
  {
   "cell_type": "markdown",
   "metadata": {},
   "source": [
    "6. Add a new Firewall rule in VPC Network\n",
    "    - internal rule\n",
    "    - IP 0.0.0.0/0 allow TCP on port 27017\n",
    "7. restart mongod\n",
    "    sudo service mongod restart\n",
    "8. Get the IP address on VPC Network/External IP addresses"
   ]
  },
  {
   "cell_type": "markdown",
   "metadata": {},
   "source": [
    "### Get a Google Cloud Compute account \n",
    "\n",
    "If you don't have a Google Cloud Compute account, follow this lab\n",
    "\n",
    "https://codelabs.developers.google.com/codelabs/cpb100-free-trial/index.html?index=..%2F..%2Fcpb100\n",
    "\n",
    "to sign up for the Free Trial and Create a Project.\n"
   ]
  }
 ],
 "metadata": {
  "kernelspec": {
   "display_name": "Python 3",
   "language": "python",
   "name": "python3"
  },
  "language_info": {
   "codemirror_mode": {
    "name": "ipython",
    "version": 3
   },
   "file_extension": ".py",
   "mimetype": "text/x-python",
   "name": "python",
   "nbconvert_exporter": "python",
   "pygments_lexer": "ipython3",
   "version": "3.5.3"
  }
 },
 "nbformat": 4,
 "nbformat_minor": 2
}
